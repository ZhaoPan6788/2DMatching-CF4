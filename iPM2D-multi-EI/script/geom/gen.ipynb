{
 "cells": [
  {
   "cell_type": "code",
   "execution_count": 1,
   "metadata": {},
   "outputs": [],
   "source": [
    "from geometry import *\n",
    "\n",
    "import numpy as np\n",
    "import matplotlib.pyplot as plt"
   ]
  },
  {
   "cell_type": "code",
   "execution_count": 2,
   "metadata": {},
   "outputs": [],
   "source": [
    "# 材料定义\n",
    "vacuum = Material(material_type_vacuum, 'vacuum', {})\n",
    "electrode_top = Material(material_type_metal, 'top electrode', {})\n",
    "electrode_bottom = Material(material_type_metal, 'bottom electrode', {})\n",
    "wall = Material(material_type_metal, 'wall', {})\n",
    "dielectric_1 = Material(material_type_dielectric, 'dielectric 1', {\n",
    "                        'permittivity': 2.1, 'permeability': 1.0, 'conductivity': 1.0})\n",
    "dielectric_2 = Material(material_type_dielectric, 'dielectric 2', {\n",
    "                        'permittivity': 2.1, 'permeability': 1.0, 'conductivity': 1.0})"
   ]
  },
  {
   "cell_type": "code",
   "execution_count": 3,
   "metadata": {},
   "outputs": [],
   "source": [
    "# 几何定义\n",
    "higth = 200\n",
    "width = 200\n",
    "electrode_width = 100\n",
    "electrode_higth = 76\n",
    "wall_thickness = 3\n",
    "dielectric_thickness = 3\n",
    "dielectric_higth = 42\n",
    "gap_higth = higth - electrode_higth*2\n",
    "vacuum_higth = (higth - gap_higth - dielectric_higth*2)//2\n",
    "bar_width = 6\n",
    "\n",
    "Nz = higth + 1\n",
    "Nr = width + 1\n",
    "geom = Geometry(Nz, Nr)\n",
    "geom.add_material([vacuum, electrode_top, electrode_bottom,\n",
    "                  wall, dielectric_1, dielectric_2])\n",
    "\n",
    "geom.add_rectangles(Rectangle(0, 0, higth, width), wall.name)\n",
    "\n",
    "geom.add_rectangles(Rectangle(0, 0, higth,\n",
    "                    electrode_width + dielectric_thickness), vacuum.name)\n",
    "\n",
    "geom.add_rectangles(Rectangle(vacuum_higth, 0, dielectric_higth,\n",
    "                    electrode_width), electrode_bottom.name)\n",
    "geom.add_rectangles(Rectangle(0, 0, electrode_higth,\n",
    "                    bar_width), electrode_bottom.name)\n",
    "\n",
    "geom.add_rectangles(Rectangle(higth - electrode_higth, 0,\n",
    "                    dielectric_higth, electrode_width), electrode_top.name)\n",
    "geom.add_rectangles(Rectangle(higth - electrode_higth, 0,\n",
    "                    electrode_higth, bar_width), electrode_top.name)\n",
    "\n",
    "geom.add_rectangles(Rectangle(electrode_higth-dielectric_higth, electrode_width,\n",
    "                    dielectric_higth, dielectric_thickness), dielectric_1.name)\n",
    "geom.add_rectangles(Rectangle(higth - electrode_higth, electrode_width,\n",
    "                    dielectric_higth, dielectric_thickness), dielectric_2.name)\n",
    "\n",
    "geom.add_rectangles(Rectangle(electrode_higth, 0, higth - electrode_higth*2,\n",
    "                    electrode_width + dielectric_thickness + wall_thickness), vacuum.name)\n",
    "geom.add_rectangles(Rectangle(wall_thickness, electrode_width + dielectric_thickness + wall_thickness,\n",
    "                    higth - wall_thickness*2, width - electrode_width - dielectric_thickness - wall_thickness*2), vacuum.name)"
   ]
  },
  {
   "cell_type": "code",
   "execution_count": null,
   "metadata": {},
   "outputs": [],
   "source": [
    "geom.show()"
   ]
  },
  {
   "cell_type": "code",
   "execution_count": null,
   "metadata": {},
   "outputs": [],
   "source": [
    "geom.show_grid()"
   ]
  },
  {
   "cell_type": "code",
   "execution_count": null,
   "metadata": {},
   "outputs": [],
   "source": [
    "geom.update_edge_type()\n",
    "geom.show_edge()"
   ]
  },
  {
   "cell_type": "code",
   "execution_count": null,
   "metadata": {},
   "outputs": [],
   "source": [
    "geom.update_point_type()\n",
    "geom.show_point()"
   ]
  },
  {
   "cell_type": "code",
   "execution_count": 8,
   "metadata": {},
   "outputs": [],
   "source": [
    "geom.update_epsilon()\n",
    "geom.update_volume()"
   ]
  },
  {
   "cell_type": "code",
   "execution_count": 9,
   "metadata": {},
   "outputs": [],
   "source": [
    "geom.cell_load[:50, :103] = 0\n",
    "geom.cell_load[150:, :103] = 0"
   ]
  },
  {
   "cell_type": "code",
   "execution_count": 10,
   "metadata": {},
   "outputs": [],
   "source": [
    "geom.save('../../input/')"
   ]
  }
 ],
 "metadata": {
  "kernelspec": {
   "display_name": "work",
   "language": "python",
   "name": "python3"
  },
  "language_info": {
   "codemirror_mode": {
    "name": "ipython",
    "version": 3
   },
   "file_extension": ".py",
   "mimetype": "text/x-python",
   "name": "python",
   "nbconvert_exporter": "python",
   "pygments_lexer": "ipython3",
   "version": "3.8.3"
  },
  "orig_nbformat": 4
 },
 "nbformat": 4,
 "nbformat_minor": 2
}
