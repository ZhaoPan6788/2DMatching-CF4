{
 "cells": [
  {
   "cell_type": "code",
   "execution_count": 1,
   "metadata": {},
   "outputs": [],
   "source": [
    "import sys\n",
    "import os\n",
    "\n",
    "sys.path.append(os.path.abspath(os.path.join(os.getcwd(), '..')))\n",
    "from base.read_matrix import MatrixDataReader\n",
    "from base.common import *\n",
    "\n",
    "import numpy as np\n",
    "import matplotlib.pyplot as plt\n",
    "\n",
    "fsave_set_save(False)\n",
    "fsave_set_dpi(300)\n",
    "fsave_set_pad_inches(0.2)\n",
    "%config InlineBackend.figure_format='svg'"
   ]
  },
  {
   "cell_type": "code",
   "execution_count": null,
   "metadata": {},
   "outputs": [],
   "source": [
    "md = MatrixDataReader(['../../run/EC_RLC.txt', '../../run/Ed.txt'])\n",
    "md.read_matrices()"
   ]
  },
  {
   "cell_type": "code",
   "execution_count": 3,
   "metadata": {},
   "outputs": [],
   "source": [
    "def calId(Ed, dt):\n",
    "    Id = np.zeros(Ed.shape)\n",
    "    Id[1:-1] = (Ed[2:] - Ed[:-2]) / 2 / dt\n",
    "    Id[0] = 2 * Id[1] - Id[2]\n",
    "    Id[-1] = 2 * Id[-2] - Id[-3]\n",
    "    return Id"
   ]
  },
  {
   "cell_type": "code",
   "execution_count": 4,
   "metadata": {},
   "outputs": [],
   "source": [
    "time = md.data[0][0]\n",
    "Vccp = md.data[0][1]\n",
    "cap = md.data[0][2]\n",
    "charge = md.data[0][3]\n",
    "Qs = md.data[0][4]\n",
    "Is = md.data[0][5]\n",
    "Qe = md.data[0][6]\n",
    "Vs = md.data[0][7]\n",
    "Ve = md.data[0][8]\n",
    "Iconv = md.data[0][9]\n",
    "q0 = md.data[0][10]\n",
    "\n",
    "Iccp = Is\n",
    "\n",
    "dt = 1/13.56e6/150\n",
    "Id1 = calId(md.data[1][0], dt)\n",
    "Id2 = calId(md.data[1][1], dt)\n",
    "\n",
    "Iconv = -np.array(Iconv)\n",
    "Id = Id2\n",
    "Iplasma = Id + Iconv"
   ]
  },
  {
   "cell_type": "code",
   "execution_count": null,
   "metadata": {},
   "outputs": [],
   "source": [
    "font, size = curvestyle()\n",
    "\n",
    "plt.plot(time/1e-6, Iccp, lw=3, c=colors[0], label=\"Is\")\n",
    "plt.plot(time/1e-6, Iplasma, ':', lw=3, c=colors[1], label=\"Iplasma\")\n",
    "\n",
    "plt.xlabel('Time (us)', fontdict=font)\n",
    "plt.ylabel('Current (A)', fontdict=font)\n",
    "# plt.xlim([-0.1, 1.1])\n",
    "# plt.ylim([10**18.7, 10**21.2])\n",
    "plt.xticks(fontsize=size)\n",
    "plt.yticks(fontsize=size)\n",
    "plt.legend(prop={'size':20}, frameon=False)\n",
    "\n",
    "ax = plt.gca()\n",
    "# ax.xaxis.set_minor_locator(MultipleLocator(0.1))\n",
    "\n",
    "fs('./rlc-Iccp')"
   ]
  },
  {
   "cell_type": "code",
   "execution_count": null,
   "metadata": {},
   "outputs": [],
   "source": [
    "font, size = curvestyle()\n",
    "\n",
    "plt.plot(time/1e-6, Id, '-', lw=3, c=colors[0], label=\"Id\")\n",
    "plt.plot(time/1e-6, Iconv, '-', lw=3, c=colors[1], label=\"Iconv\")\n",
    "plt.plot(time/1e-6, Iccp, '-', lw=3, c=colors[2], label=\"Iccp\")\n",
    "\n",
    "plt.xlabel('Time (us)', fontdict=font)\n",
    "plt.ylabel('Current (A)', fontdict=font)\n",
    "# plt.xlim([-0.1, 1.1])\n",
    "# plt.ylim([10**18.7, 10**21.2])\n",
    "plt.xticks(fontsize=size)\n",
    "plt.yticks(fontsize=size)\n",
    "plt.legend(prop={'size':20}, frameon=False)\n",
    "\n",
    "ax = plt.gca()\n",
    "# ax.xaxis.set_minor_locator(MultipleLocator(0.1))\n",
    "\n",
    "fs('./rlc-Id')"
   ]
  },
  {
   "cell_type": "code",
   "execution_count": null,
   "metadata": {},
   "outputs": [],
   "source": [
    "font, size = curvestyle()\n",
    "\n",
    "plt.plot(time/1e-6, Vs, lw=3, c=colors[0], label=\"Vs\")\n",
    "plt.plot(time/1e-6, Vccp, lw=3, c=colors[1], label=\"Vcpp\")\n",
    "\n",
    "plt.xlabel('Time (us)', fontdict=font)\n",
    "plt.ylabel('Voltage (V)', fontdict=font)\n",
    "# plt.xlim([-0.1, 1.1])\n",
    "# plt.ylim([10**18.7, 10**21.2])\n",
    "plt.xticks(fontsize=size)\n",
    "plt.yticks(fontsize=size)\n",
    "plt.legend(prop={'size':20}, frameon=False)\n",
    "\n",
    "ax = plt.gca()\n",
    "# ax.xaxis.set_minor_locator(MultipleLocator(0.1))\n",
    "\n",
    "fs('./rlc-vol')"
   ]
  },
  {
   "cell_type": "code",
   "execution_count": null,
   "metadata": {},
   "outputs": [],
   "source": [
    "font, size = curvestyle()\n",
    "\n",
    "plt.plot(time/1e-6, cap/1e-12, lw=3, c=colors[0], label=\"Cei\")\n",
    "\n",
    "plt.xlabel('Time (us)', fontdict=font)\n",
    "plt.ylabel('C (pF)', fontdict=font)\n",
    "# plt.xlim([-0.1, 1.1])\n",
    "# plt.ylim([0, 100])\n",
    "plt.xticks(fontsize=size)\n",
    "plt.yticks(fontsize=size)\n",
    "plt.legend(prop={'size': 20}, frameon=False)\n",
    "\n",
    "ax = plt.gca()\n",
    "# ax.xaxis.set_minor_locator(MultipleLocator(0.1))\n",
    "\n",
    "fs('./rlc-eqc')"
   ]
  },
  {
   "cell_type": "code",
   "execution_count": null,
   "metadata": {},
   "outputs": [],
   "source": [
    "font, size = curvestyle()\n",
    "\n",
    "plt.plot(time/1e-6, charge, lw=3, c=colors[0], label=\"Q\")\n",
    "\n",
    "plt.xlabel('Time (us)', fontdict=font)\n",
    "plt.ylabel('Q (C)', fontdict=font)\n",
    "# plt.xlim([-0.1, 1.1])\n",
    "# plt.ylim([10**18.7, 10**21.2])\n",
    "plt.xticks(fontsize=size)\n",
    "plt.yticks(fontsize=size)\n",
    "plt.legend(prop={'size': 20}, frameon=False)\n",
    "\n",
    "ax = plt.gca()\n",
    "# ax.xaxis.set_minor_locator(MultipleLocator(0.1))\n",
    "\n",
    "fs('./rlc-q')"
   ]
  }
 ],
 "metadata": {
  "kernelspec": {
   "display_name": "work",
   "language": "python",
   "name": "python3"
  },
  "language_info": {
   "codemirror_mode": {
    "name": "ipython",
    "version": 3
   },
   "file_extension": ".py",
   "mimetype": "text/x-python",
   "name": "python",
   "nbconvert_exporter": "python",
   "pygments_lexer": "ipython3",
   "version": "3.8.3"
  },
  "orig_nbformat": 4
 },
 "nbformat": 4,
 "nbformat_minor": 2
}
